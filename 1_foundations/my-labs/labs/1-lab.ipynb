{
 "cells": [
  {
   "cell_type": "code",
   "execution_count": 3,
   "id": "461d5916",
   "metadata": {},
   "outputs": [],
   "source": [
    "from dotenv import load_dotenv"
   ]
  },
  {
   "cell_type": "code",
   "execution_count": 4,
   "id": "008ce159",
   "metadata": {},
   "outputs": [
    {
     "data": {
      "text/plain": [
       "True"
      ]
     },
     "execution_count": 4,
     "metadata": {},
     "output_type": "execute_result"
    }
   ],
   "source": [
    "# Use override to use values in .env instead of any env that may be present in global system\n",
    "\n",
    "load_dotenv(override=True)"
   ]
  },
  {
   "cell_type": "code",
   "execution_count": 5,
   "id": "228329eb",
   "metadata": {},
   "outputs": [
    {
     "name": "stdout",
     "output_type": "stream",
     "text": [
      "Base URL for Ollama: http://localhost:11434/v1\n"
     ]
    }
   ],
   "source": [
    "import os\n",
    "ollama_base_url = os.getenv('OLLAMA_BASE_URL')\n",
    "ollama_api_key = os.getenv('OLLAMA_API_KEY')\n",
    "ollama_model = \"gemma3:12b\"\n",
    "\n",
    "if ollama_base_url:\n",
    "    print(f\"Base URL for Ollama: {ollama_base_url}\")"
   ]
  },
  {
   "cell_type": "code",
   "execution_count": 6,
   "id": "6d26a5e9",
   "metadata": {},
   "outputs": [],
   "source": [
    "# You can use the OpenAI import for multiple LLL Providers\n",
    "# Example: modify the base_url and api_key parameters depending on the provider\n",
    "\n",
    "from openai import OpenAI"
   ]
  },
  {
   "cell_type": "code",
   "execution_count": 7,
   "id": "64d08746",
   "metadata": {},
   "outputs": [
    {
     "name": "stdout",
     "output_type": "stream",
     "text": [
      "Using Ollama model...\n"
     ]
    }
   ],
   "source": [
    "if ollama_api_key:\n",
    "    openai = OpenAI(\n",
    "        base_url=ollama_base_url,\n",
    "        api_key=ollama_api_key\n",
    "    )\n",
    "    print(\"Using Ollama model...\")\n",
    "else:\n",
    "    openai = OpenAI()\n",
    "    print(\"Using Remote API Key...\")\n"
   ]
  },
  {
   "cell_type": "code",
   "execution_count": null,
   "id": "7977db3a",
   "metadata": {},
   "outputs": [],
   "source": [
    "# Example using Gemini instead of Ollama\n",
    "# --------------------------------------\n",
    "# gemini_client = OpenAI(\n",
    "#     base_url=\"https://generativelanguage.googleapis.com/v1beta/openai/\",\n",
    "#     api_key=os.getenv(\"GOOGLE_API_KEY\")\n",
    "# )"
   ]
  },
  {
   "cell_type": "code",
   "execution_count": 8,
   "id": "7b387fea",
   "metadata": {},
   "outputs": [],
   "source": [
    "# Use a standardized messaging format to send prompts  -  dict{role: \"\", content: \"\"}\n",
    "# Common types are: \"user\" | \"system\" | \"assistant\"\n",
    "\n",
    "messages = [{\"role\" : \"user\", \"content\": \"What is 2+2?\"}]"
   ]
  },
  {
   "cell_type": "code",
   "execution_count": 9,
   "id": "f98ee379",
   "metadata": {},
   "outputs": [
    {
     "name": "stdout",
     "output_type": "stream",
     "text": [
      "2 + 2 = 4\n",
      "\n"
     ]
    }
   ],
   "source": [
    "response = openai.chat.completions.create(\n",
    "    model=ollama_model,\n",
    "    messages=messages\n",
    ")\n",
    "\n",
    "print(response.choices[0].message.content)"
   ]
  },
  {
   "cell_type": "code",
   "execution_count": 10,
   "id": "48dbbbef",
   "metadata": {},
   "outputs": [],
   "source": [
    "question = \"Please propose a hard, challenging question to assess someone's IQ. Please respond only with the question.\"\n",
    "messages = [{\"role\": \"user\", \"content\": question}]"
   ]
  },
  {
   "cell_type": "code",
   "execution_count": 11,
   "id": "2f05ce84",
   "metadata": {},
   "outputs": [
    {
     "name": "stdout",
     "output_type": "stream",
     "text": [
      "A perfectly balanced, opaque, non-compressible cube floats in water. You are given an unlimited supply of identical, perfectly balanced, opaque, non-compressible spheres. What is the minimum number of spheres required to completely submerge the cube, and explain your reasoning?\n"
     ]
    }
   ],
   "source": [
    "response = openai.chat.completions.create(\n",
    "    model=ollama_model,\n",
    "    messages=messages\n",
    ")\n",
    "\n",
    "question = response.choices[0].message.content\n",
    "\n",
    "print(question)"
   ]
  },
  {
   "cell_type": "code",
   "execution_count": 12,
   "id": "c7de3f78",
   "metadata": {},
   "outputs": [],
   "source": [
    "messages = [{\"role\": \"user\", \"content\": question}]"
   ]
  },
  {
   "cell_type": "code",
   "execution_count": 13,
   "id": "06a53c0a",
   "metadata": {},
   "outputs": [
    {
     "name": "stdout",
     "output_type": "stream",
     "text": [
      "Okay, this is a clever problem requiring a bit of spatial reasoning and understanding of volume relationships. Here's the breakdown of the solution and the reasoning:\n",
      "\n",
      "**Understanding the Problem**\n",
      "\n",
      "*   **Floating Cube:**  A floating cube means the buoyant force acting on the cube is equal to its weight. Let's say the volume of the cube is `V_cube`. The volume of water displaced (and therefore the buoyant force) is `V_cube`.\n",
      "*   **Spheres to Submerge:**  We need to add enough spheres so that the *total* volume of the spheres added equals the volume of the cube (`V_cube`).  When the total volume of added spheres equals `V_cube`, the cube will be completely submerged (because the buoyant force on the cube is now equal to the weight of the cube *plus* the weight of the spheres added).\n",
      "*   **Packing Efficiency:**  Spheres don't pack perfectly into a cube. There will be empty spaces (voids) between the spheres.  Therefore, we need more spheres than the volume of the cube would suggest if the spheres could perfectly fill the space.\n",
      "\n",
      "**Reasoning and Solution**\n",
      "\n",
      "1.  **Sphere Packing Efficiency:**\n",
      "    *   The most efficient way to pack spheres is called \"close packing.\" In close packing (either hexagonal or cubic face-centered arrangements), the packing density is approximately 74%. This means that for every 100 units of volume, about 74 units will be occupied by spheres, and 26 units will be empty space.\n",
      "    *   To find out how many spheres are needed to fill a specific volume, we can consider the theoretical volume they take up when accounting for the packing efficiency.\n",
      "\n",
      "2.  **Calculate the \"Effective Volume\" of Each Sphere:** Let `V_sphere` be the volume of a single sphere. Because of the space between the spheres, the *effective* volume of each sphere is what will actually contribute to submerging the cube. If we want the spheres to effectively displace a volume of `V_cube`, then the total volume of spheres required can be calculated as follows:\n",
      "\n",
      "    *   Required Volume = `V_cube`\n",
      "    *   Volume Percentage Filled = 74%\n",
      "    *   Therefore, we have `0.74 * (total volume of spheres) = V_cube`\n",
      "    *   Total Volume of Spheres = `V_cube / 0.74`\n",
      "\n",
      "3.  **Number of Spheres:**  If the volume of a single sphere is `V_sphere`, then the total number of spheres `n` needed is:\n",
      "\n",
      "    *   `n = (V_cube / 0.74) / V_sphere`\n",
      "\n",
      "4. **Finding the minimum number of spheres:**\n",
      "   *  Since we are looking for the *minimum* number of spheres, we need the volume of a single sphere (`V_sphere`) to be as *small* as possible. We can achieve this if the cube and spheres are the same size. So, `V_sphere = V_cube / 64` when the cube is broken up into 64 equal cubes.\n",
      "\n",
      "   * `n = ((V_cube / 0.74)) / ((V_cube / 64))`\n",
      "   * `n = (64) / (0.74)`\n",
      "   * `n = 86.48`\n",
      "\n",
      "   * Therefore, `n = 87`.\n",
      "\n",
      "**Therefore, the minimum number of spheres required to completely submerge the cube is 87.**\n",
      "\n",
      "**Important Notes:**\n",
      "\n",
      "*   **Idealization:** This assumes perfect spheres, perfect packing, and a perfectly balanced cube. Real-world constraints could change the required number.\n",
      "*   **Arrangement:** The arrangement of the spheres isn't explicitly defined. The sphere packing density is an average, and different arrangements can slightly alter it.\n",
      "*   **Volume of Sphere:** If the volume of each sphere were given, the calculation would be more straightforward.  In the absence of that information, one must consider that the sphere must be some measure less than the cube in order for it to be submerged.\n"
     ]
    }
   ],
   "source": [
    "response = openai.chat.completions.create(\n",
    "    model=ollama_model,\n",
    "    messages=messages\n",
    ")\n",
    "\n",
    "answer = response.choices[0].message.content\n",
    "\n",
    "print(answer)"
   ]
  },
  {
   "cell_type": "code",
   "execution_count": 14,
   "id": "c65eab84",
   "metadata": {},
   "outputs": [
    {
     "data": {
      "text/markdown": [
       "Okay, this is a clever problem requiring a bit of spatial reasoning and understanding of volume relationships. Here's the breakdown of the solution and the reasoning:\n",
       "\n",
       "**Understanding the Problem**\n",
       "\n",
       "*   **Floating Cube:**  A floating cube means the buoyant force acting on the cube is equal to its weight. Let's say the volume of the cube is `V_cube`. The volume of water displaced (and therefore the buoyant force) is `V_cube`.\n",
       "*   **Spheres to Submerge:**  We need to add enough spheres so that the *total* volume of the spheres added equals the volume of the cube (`V_cube`).  When the total volume of added spheres equals `V_cube`, the cube will be completely submerged (because the buoyant force on the cube is now equal to the weight of the cube *plus* the weight of the spheres added).\n",
       "*   **Packing Efficiency:**  Spheres don't pack perfectly into a cube. There will be empty spaces (voids) between the spheres.  Therefore, we need more spheres than the volume of the cube would suggest if the spheres could perfectly fill the space.\n",
       "\n",
       "**Reasoning and Solution**\n",
       "\n",
       "1.  **Sphere Packing Efficiency:**\n",
       "    *   The most efficient way to pack spheres is called \"close packing.\" In close packing (either hexagonal or cubic face-centered arrangements), the packing density is approximately 74%. This means that for every 100 units of volume, about 74 units will be occupied by spheres, and 26 units will be empty space.\n",
       "    *   To find out how many spheres are needed to fill a specific volume, we can consider the theoretical volume they take up when accounting for the packing efficiency.\n",
       "\n",
       "2.  **Calculate the \"Effective Volume\" of Each Sphere:** Let `V_sphere` be the volume of a single sphere. Because of the space between the spheres, the *effective* volume of each sphere is what will actually contribute to submerging the cube. If we want the spheres to effectively displace a volume of `V_cube`, then the total volume of spheres required can be calculated as follows:\n",
       "\n",
       "    *   Required Volume = `V_cube`\n",
       "    *   Volume Percentage Filled = 74%\n",
       "    *   Therefore, we have `0.74 * (total volume of spheres) = V_cube`\n",
       "    *   Total Volume of Spheres = `V_cube / 0.74`\n",
       "\n",
       "3.  **Number of Spheres:**  If the volume of a single sphere is `V_sphere`, then the total number of spheres `n` needed is:\n",
       "\n",
       "    *   `n = (V_cube / 0.74) / V_sphere`\n",
       "\n",
       "4. **Finding the minimum number of spheres:**\n",
       "   *  Since we are looking for the *minimum* number of spheres, we need the volume of a single sphere (`V_sphere`) to be as *small* as possible. We can achieve this if the cube and spheres are the same size. So, `V_sphere = V_cube / 64` when the cube is broken up into 64 equal cubes.\n",
       "\n",
       "   * `n = ((V_cube / 0.74)) / ((V_cube / 64))`\n",
       "   * `n = (64) / (0.74)`\n",
       "   * `n = 86.48`\n",
       "\n",
       "   * Therefore, `n = 87`.\n",
       "\n",
       "**Therefore, the minimum number of spheres required to completely submerge the cube is 87.**\n",
       "\n",
       "**Important Notes:**\n",
       "\n",
       "*   **Idealization:** This assumes perfect spheres, perfect packing, and a perfectly balanced cube. Real-world constraints could change the required number.\n",
       "*   **Arrangement:** The arrangement of the spheres isn't explicitly defined. The sphere packing density is an average, and different arrangements can slightly alter it.\n",
       "*   **Volume of Sphere:** If the volume of each sphere were given, the calculation would be more straightforward.  In the absence of that information, one must consider that the sphere must be some measure less than the cube in order for it to be submerged."
      ],
      "text/plain": [
       "<IPython.core.display.Markdown object>"
      ]
     },
     "metadata": {},
     "output_type": "display_data"
    }
   ],
   "source": [
    "\n",
    "from IPython.display import Markdown, display\n",
    "\n",
    "display(Markdown(answer))"
   ]
  },
  {
   "cell_type": "code",
   "execution_count": 17,
   "id": "b8669ab2",
   "metadata": {},
   "outputs": [
    {
     "name": "stdout",
     "output_type": "stream",
     "text": [
      "Business Area: Okay, let's explore **Personalized Wellness & Nutrition Coaching** as a business area ripe for an Agentic AI opportunity. Here's a breakdown of why, the potential, challenges, and how an Agentic AI could be leveraged.\n",
      "\n",
      "**1. Why This Area is Promising:**\n",
      "\n",
      "* **Massive & Growing Market:** The wellness and nutrition market is huge (estimated at hundreds of billions globally) and growing as people become more health-conscious. Demand for personalized guidance is a key driver.\n",
      "* **High Complexity & Fragmentation:** Existing solutions are often fragmented. You have calorie trackers, workout apps, supplement recommendations, meal planning sites, and individual coaches – rarely integrated. This creates a need for holistic, adaptive support.\n",
      "* **High Cost & Accessibility Issues:**  Personalized coaching (nutritionists, personal trainers) is expensive and often inaccessible to many.  AI can potentially bridge that gap by offering personalized support at a lower cost.\n",
      "* **Data Availability:**  Wearable data (Fitbit, Apple Watch), food tracking apps, genetic testing results (increasingly common), and lifestyle questionnaires offer a wealth of data that AI can use to personalize recommendations.\n",
      "* **Behavioral Change is Hard:**  Wellness goals often involve significant behavioral changes.  Traditional programs struggle with adherence. AI can be designed to adapt to individual struggles and offer tailored encouragement and strategy adjustments.\n",
      "* **Evolving Science:** Nutrition science is constantly evolving. An AI can constantly update its knowledge based on new research, providing users with the latest information.\n",
      "\n",
      "**2. The Agentic AI Opportunity – What It Could Do:**\n",
      "\n",
      "Instead of just a chatbot answering questions, we're talking about an **Agentic AI Wellness Coach**. This agent would be designed to *actively* work towards a user's defined wellness goals.  Here's how it would function:\n",
      "\n",
      "* **Goal Definition & Prioritization:** Helps users define SMART (Specific, Measurable, Achievable, Relevant, Time-bound) wellness goals. Prioritizes goals based on user preferences and potential impact.\n",
      "* **Data Integration & Analysis:** Connects to various data sources:\n",
      "    * **Wearables:** Tracks activity levels, sleep patterns, heart rate variability.\n",
      "    * **Food Logs:** Analyzes dietary intake, identifies nutrient deficiencies or excesses.\n",
      "    * **Genetic Testing (Optional):** Incorporates genetic predispositions toward certain conditions or nutrient needs.\n",
      "    * **User Input:** Gathering through questionnaires, check-ins, and mood tracking.\n",
      "* **Personalized Recommendations (Beyond Simple Suggestions):**\n",
      "    * **Nutrition Plans:** Generates meal plans tailored to dietary restrictions, preferences, and goals (weight loss, muscle gain, blood sugar control). *Not just recipes, but complete weekly plans with shopping lists.*\n",
      "    * **Workout Routines:**  Creates personalized exercise routines based on fitness level, available equipment, and time constraints. *Adapts routines based on progress and feedback.*\n",
      "    * **Supplement Recommendations:** (With appropriate disclaimers and potentially integrations with healthcare professionals) - suggests supplements based on nutritional deficiencies and individual needs.\n",
      "    * **Stress Management Techniques:*  Recommends and guides users through meditation, breathing exercises, or other stress-reducing activities based on their current stress levels.\n",
      "* **Proactive Engagement & Adaptation:**\n",
      "    * **Identify Challenges:** Monitors user data and proactively identifies potential roadblocks (e.g., noticing a pattern of missed workouts, poor sleep, or inconsistent food logging).\n",
      "    * **Adaptive Coaching:** Adjusts recommendations and provides targeted support based on the user's progress and challenges. (e.g., if a user is struggling with a particular exercise, the AI might suggest a modification or alternative).\n",
      "    * **Motivational Support:**  Provides encouragement, sets reminders, celebrates milestones, and offers personalized tips to maintain motivation.\n",
      "* **Integration (Key Agentic Feature):**\n",
      "    * **Automated Grocery Ordering:**  Based on the meal plan, automatically generates grocery lists and facilitates online ordering.\n",
      "    * **Restaurant Recommendations:** Suggests healthy restaurant options when eating out and helps users make informed choices.\n",
      "    * **Connection to Healthcare Professionals (Optional & Regulated):** Could flag potential health concerns to a user's doctor (with appropriate consent).\n",
      "\n",
      "**3. Potential Technologies to Leverage:**\n",
      "\n",
      "* **Large Language Models (LLMs):**  For natural language interaction, personalized content generation, and explanation of complex concepts.\n",
      "* **Reinforcement Learning:** To optimize coaching strategies based on user feedback and outcomes.\n",
      "* **Computer Vision:**  Could potentially analyze food photos to estimate calorie intake (though this is a complex area).\n",
      "* **Knowledge Graphs:** To represent the vast amount of information related to nutrition, fitness, and wellness.\n",
      "* **APIs:** Integration with wearables, food tracking apps, online grocery services, and potentially healthcare platforms.\n",
      "\n",
      "**4. Challenges & Considerations:**\n",
      "\n",
      "* **Data Privacy & Security:**  Handling sensitive health data requires robust security measures and strict adherence to privacy regulations (HIPAA compliance in the US).\n",
      "* **Accuracy & Reliability:**  Ensuring the accuracy of nutritional and fitness advice is critical.  Requires careful curation of data sources and validation of algorithms.  Disclaimer needed.\n",
      "* **Ethical Considerations:** Avoiding bias in algorithms, ensuring equitable access to services, and preventing the promotion of harmful practices.\n",
      "* **Regulatory Landscape:** Subject to evolving regulations regarding health and wellness advice.\n",
      "* **User Trust & Adoption:** People need to trust the AI's recommendations, which requires transparency and explainability.\n",
      "* **Cost of Development & Maintenance:** Building and maintaining a sophisticated Agentic AI system is expensive.\n",
      "\n",
      "\n",
      "\n",
      "**Why this is a solid Agentic AI opportunity:**  It's about more than just answering questions. It’s about an AI *doing* the work of a wellness coach, actively guiding users towards their goals and adapting to their individual needs.  The complexity of the domain and the inherent difficulty of behavior change make it ripe for an AI solution that can provide personalized, proactive support.\n",
      "\n",
      "Pain Point: Okay, let's focus on a particularly challenging pain point within the Personalized Wellness & Nutrition Coaching industry: **Maintaining Long-Term Adherence to Personalized Nutrition Plans, Specifically amongst Busy Professionals.**\n",
      "\n",
      "Here's a breakdown of why this is a significant problem and why it's ripe for an Agentic AI solution:\n",
      "\n",
      "**1. The Pain Point: \"Analysis Paralysis\" and \"Life Gets in the Way\"**\n",
      "\n",
      "* **The Problem:** Many people, particularly busy professionals with demanding careers and limited free time, start out enthusiastic about personalized nutrition plans. They invest in coaching or apps, follow the plan for a short period, and then *abandon it*. The meticulously crafted plans gather digital dust.\n",
      "* **Why it Happens (The Root Causes):**\n",
      "    * **Overwhelm:** Detailed meal plans, intricate recipes, and strict rules feel restrictive and overwhelming, especially when juggling work, family, and other commitments.  The perceived effort outweighs the perceived benefits.\n",
      "    * **Time Constraints:** Preparing healthy meals from scratch is time-consuming. When days are packed, convenience often wins.  Takeout and processed foods become the default.\n",
      "    * **Lack of Flexibility:** Rigid plans are difficult to adhere to when unexpected events or travel disrupt routines.  Feeling restricted leads to frustration and resentment.\n",
      "    * **\"All-or-Nothing\" Mentality:** A single slip-up (eating something \"off-plan\") can trigger feelings of guilt and failure, leading to complete abandonment of the plan.\n",
      "    * **Forgotten Why:** The initial motivation (weight loss, better health) fades over time, making it harder to stay committed.\n",
      "    * **Lack of Personalized Support:** Existing solutions often provide limited ongoing support to address individual challenges and adapt to changing circumstances. They've often missed the underlying reasons for failures.\n",
      "\n",
      "**2. Why This is Ripe for an Agentic AI Solution:**\n",
      "\n",
      "Current solutions (tracking apps, meal planning websites, even traditional coaches) often fail to address the core psychological and logistical challenges that lead to abandonment.  An Agentic AI could tackle this in ways that existing solutions don’s:\n",
      "\n",
      "* **Proactive Problem Identification:**  The AI wouldn't just track food intake. It would learn a user's patterns – when they’re most likely to struggle (e.g., late evenings, weekends, travel days) – *before* they fail.  It could analyze calendar data to anticipate disruptions.\n",
      "* **Dynamic Plan Adjustment:**  Instead of a fixed meal plan, the AI would generate *adaptive* plans based on factors like:\n",
      "    * **Remaining Time:**  \"You have 15 minutes for dinner. Here are 3 quick & healthy options.\"\n",
      "    * **Available Ingredients:** \"Based on what you have in your fridge, here's a meal you can make.\"\n",
      "    * **Mood & Energy Levels:** \"You seem stressed. Here’s a simple, comfort-food-inspired option that still aligns with your goals.\"\n",
      "    * **Travel Plans:** Automatic meal planning for different locations, restaurant recommendations, and guidance on navigating unfamiliar food environments.\n",
      "* **\"Rescue Missions\":** When a user deviates from the plan, instead of judgment, the AI would offer a compassionate and practical response: \"I noticed you had pizza tonight. Let's focus on getting back on track with a high-protein breakfast tomorrow.\"\n",
      "* **Behavioral Insights & Motivation:** The AI could analyze user behavior to identify underlying patterns and provide tailored motivation: \"You often skip breakfast when you're running late. Let’s explore some quick and healthy breakfast options.”\n",
      "* **Gamification & Rewards:**  Personalized rewards and challenges to maintain engagement and make the process more enjoyable.\n",
      "* **Seamless Integration & Automation:** Automated grocery ordering based on the dynamic meal plan, minimizing effort.\n",
      "\n",
      "**3. How the Agentic AI Would Function (specific examples):**\n",
      "\n",
      "* **Predictive Alerts:** \"Based on your calendar, you have a late meeting tomorrow. I’m pre-planning a 10-minute healthy meal for you and adding it to your calendar as a reminder.”\n",
      "* **Automatic \"Plan B\" Generation:** \"Your planned dinner recipe will take 45 minutes to prepare. Here are 3 options that take less than 15 minutes, with prep instructions.”\n",
      "* **Contextual Support:** \"I see you’re traveling this weekend. Here are some healthy restaurant options near your hotel and tips for navigating airport food.”\n",
      "\n",
      "\n",
      "\n",
      "**Why this specific pain point is ideal for an Agentic AI:** It's not about providing information – it's about *actively* addressing the behavioral and logistical barriers that prevent people from achieving their goals. It requires proactive intervention, dynamic adaptation, and a deep understanding of individual circumstances – hallmarks of Agentic AI capabilities. Successfully tackling this challenge would translate to substantially better adherence rates and significantly improved health outcomes.\n",
      "\n",
      "Solution: Okay, let's flesh out the \"Adherence Ace\" - the Agentic AI solution designed to conquer the \"Adherence Challenge\" we's discussed regarding busy professionals and personalized nutrition.\n",
      "\n",
      "**1. Name & Core Identity:**\n",
      "\n",
      "* **Name:** Adherence Ace (AA)\n",
      "* **Personality:** Empathetic, Proactive, Resourceful, and Slightly Humorous (to avoid feeling overly clinical). Think of a supportive friend who *gets* your struggles and has practical solutions.\n",
      "\n",
      "**2. Architecture & Key Components:**\n",
      "\n",
      "* **Foundation:** Built upon a Large Language Model (LLM) - likely a fine-tuned version of a model like GPT-4 or Gemini - for natural language understanding, content generation, and personalized communication.\n",
      "* **Data Integration Layer:**  Connects to various data sources (with user consent):\n",
      "    * **Wearable Devices:** (Fitbit, Apple Watch, etc.) – Activity levels, sleep quality, heart rate variability.\n",
      "    * **Food Logging App:** (MyFitnessPal, Cronometer, etc.) – Dietary intake, macro/micronutrient tracking.\n",
      "    * **Calendar & Location Data:** (Google Calendar, Apple Calendar, GPS) – Schedules, travel plans. *Critical for proactive intervention!*\n",
      "    * **User Input:** Direct feedback through chat interface (mood, energy levels, specific challenges).\n",
      "* **Predictive Engine:**  Powered by machine learning models that analyze historical data (user behavior, calendar events, wearable data) to predict potential adherence failures.  This is where the “Ace” aspect comes into play.\n",
      "* **Adaptive Plan Generator:** Creates dynamic meal plans, workout routines, and recommendations based on predicted needs, user preferences, and available resources.  Utilizes constraint satisfaction to achieve balance between user goals and practical limitations.\n",
      "* **Communication Module:** Handles all communication with the user through a chat interface.  Provides personalized advice, encouragement, and \"rescue missions\" (as described previously).\n",
      "* **Feedback Loop:** Continuously learns from user feedback and adapts its strategies to improve effectiveness.\n",
      "\n",
      "**3. Key Agentic Capabilities & Functionality:**\n",
      "\n",
      "* **Proactive Scheduling:**\n",
      "    * **Calendar Integration:** Automatically scans user’s calendar to identify potential challenges (late meetings, travel plans, social events).\n",
      "    * **Pre-Planned Solutions:** Generates “backup” meal plans and workout routines for days with tight schedules.\n",
      "* **Dynamic Plan Adjustment (Real-time Adaptation):**\n",
      "    * **Time-Constrained Meals:** \"You only have 10 minutes for lunch. Here are 3 quick and healthy options with step-by-step instructions.”\n",
      "    * **Ingredient-Based Meals:** “You have chicken, broccoli, and rice in your fridge. Here’s a simple and delicious meal you can make.”\n",
      "    * **Energy-Level Optimization:** \"You seem tired. Here's a simple smoothie with energy-boosting ingredients.\"\n",
      "* **\"Rescue Missions\" & Compassionate Guidance:**\n",
      "    * **Deviation Detection:** If the user deviates from the plan, AA avoids judgment and offers a constructive response. “I noticed you had pizza tonight. Let’s focus on getting back on track with a high-protein breakfast tomorrow.”\n",
      "    * **Pattern Identification:** Detects recurring patterns of non-adherence and offers tailored advice.  \"You often skip breakfast when you'’re running late.  Here are some quick and portable breakfast options you can grab on the go.\"\n",
      "* **Personalized Motivation & Rewards:**\n",
      "    * **Goal Setting & Milestones:** Helps the user set realistic goals, celebrates achievements, and provides encouragement when they struggle.\n",
      "    * **Gamification:** Introduces elements like challenges, badges, and leaderboards to make the process more engaging.\n",
      "* **Seamless Integration:**\n",
      "    * **Automated Grocery Ordering:** Generates shopping lists based on the adaptive meal plan and facilitates online ordering from preferred retailers.\n",
      "    * **Restaurant Recommendations:** Suggests healthy dining options when eating out and provides guidance on making informed choices.\n",
      "\n",
      "**4. User Interface & Experience:**\n",
      "\n",
      "* **Chat-Based Interface:** The primary mode of interaction is through a conversational chatbot.\n",
      "* **Clean and Intuitive Design:** Easy to navigate and understand.\n",
      "* **Personalized Dashboard:** Overview of progress, upcoming events, and personalized recommendations.\n",
      "* **Easy Feedback Mechanism:** Simple and convenient way to provide feedback on AA’s suggestions.\n",
      "\n",
      "**5. Technology Stack (Example):**\n",
      "\n",
      "* **LLM:** Gemini or GPT-4 (Fine-tuned)\n",
      "* **Backend:** Python (Flask/Django)\n",
      "* **Database:** PostgreSQL\n",
      "* **Machine Learning Library:** TensorFlow/PyTorch\n",
      "* **Cloud Platform:** AWS/Google Cloud Platform/Azure\n",
      "\n",
      "**6. Differentiation:**\n",
      "\n",
      "* **Hyper-Personalization:** Goes beyond basic meal planning to proactively address individual challenges and optimize performance.\n",
      "* **Predictive Capabilities:** Anticipates potential adherence failures before they happen.\n",
      "* **Agentic Proactivity:**  Doesn'’t just respond to requests; it actively monitors the user's situation and offers guidance.\n",
      "\n",
      "\n",
      "\n",
      "**Overall Vision:** Adherence Ace isn’t just an app; it’s a proactive and empathetic companion helping users achieve their wellness goals by understanding *their* lives and proactively navigating the challenges. The agentic nature makes it uniquely positioned to succeed in this complex space.\n",
      "\n"
     ]
    }
   ],
   "source": [
    "import os\n",
    "from typing import List, Dict\n",
    "from dotenv import load_dotenv\n",
    "from openai import OpenAI\n",
    "\n",
    "class AgenticAI:\n",
    "    def __init__(self) -> None:\n",
    "        load_dotenv(override=True)\n",
    "        self.setup_client()\n",
    "    \n",
    "    def setup_client(self) -> None:\n",
    "        ollama_base_url = os.getenv(\"OLLAMA_BASE_URL\")\n",
    "        ollama_api_key = os.getenv(\"OLLAMA_API_KEY\")\n",
    "\n",
    "        if ollama_api_key and ollama_base_url:\n",
    "            self.client = OpenAI(\n",
    "                base_url=ollama_base_url,\n",
    "                api_key=ollama_api_key\n",
    "            )\n",
    "            self.model = \"gemma3:12b\"\n",
    "    \n",
    "    def get_llm_response(self, messages: List[Dict[str, str]]) -> str:\n",
    "        try:\n",
    "            response = self.client.chat.completions.create(\n",
    "                model=self.model,\n",
    "                messages=messages\n",
    "            )\n",
    "            return str(response.choices[0].message.content)\n",
    "        except Exception as e:\n",
    "            print(f\"Error: {e}\")\n",
    "            return \"\"\n",
    "\n",
    "    def business_opportunity(self) -> Dict[str, str]:\n",
    "        prompts = {\n",
    "            \"business\": \"Please pick a business area that might be worth exploring for an Agentic AI opportunity.\",\n",
    "            \"pain_point\": \"Please present a pain-point in that industry - something challenging that might be ripe for an Agentic solution.\",\n",
    "            \"solution\": \"Please propose the Agentic AI solution\"\n",
    "        }\n",
    "\n",
    "        messages = []\n",
    "        results = {}\n",
    "\n",
    "        for step, prompt in prompts.items():\n",
    "            messages.append({\"role\": \"user\", \"content\": prompt})\n",
    "\n",
    "            try:\n",
    "                response = self.get_llm_response(messages)\n",
    "                results[step] = response\n",
    "                messages.append({\"role\": \"assistant\", \"content\": response})\n",
    "            except Exception as e:\n",
    "                return {\"error\": f\"{e}\"}\n",
    "\n",
    "        return results\n",
    "   \n",
    "def main():\n",
    "    agent = AgenticAI()\n",
    "\n",
    "    results = agent.business_opportunity()\n",
    "\n",
    "    print(f\"Business Area: {results[\"business\"]}\\n\")\n",
    "    print(f\"Pain Point: {results[\"pain_point\"]}\\n\")\n",
    "    print(f\"Solution: {results[\"solution\"]}\\n\")\n",
    "\n",
    "main()"
   ]
  }
 ],
 "metadata": {
  "kernelspec": {
   "display_name": "agents",
   "language": "python",
   "name": "python3"
  },
  "language_info": {
   "codemirror_mode": {
    "name": "ipython",
    "version": 3
   },
   "file_extension": ".py",
   "mimetype": "text/x-python",
   "name": "python",
   "nbconvert_exporter": "python",
   "pygments_lexer": "ipython3",
   "version": "3.12.3"
  }
 },
 "nbformat": 4,
 "nbformat_minor": 5
}
